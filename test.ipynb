{
 "cells": [
  {
   "cell_type": "code",
   "execution_count": 1,
   "id": "8d6eb543",
   "metadata": {},
   "outputs": [],
   "source": [
    "# Disables generation of pycache file\n",
    "import sys\n",
    "sys.dont_write_bytecode = True\n",
    "\n",
    "import numpy as np\n",
    "\n",
    "from solver import *"
   ]
  },
  {
   "cell_type": "code",
   "execution_count": 2,
   "id": "bc496212",
   "metadata": {},
   "outputs": [
    {
     "name": "stdout",
     "output_type": "stream",
     "text": [
      "Set parameter TimeLimit to value 7200\n",
      "Set parameter OptimalityTol to value 1e-05\n",
      "[[ 19.   0.   0.   0. 116.   0.]\n",
      " [ 66.   0.   0. 101.   0.   1.]\n",
      " [  0.  19. 121.   0.   0.   0.]\n",
      " [  4.  76.   0.   0.   0.   0.]\n",
      " [  0.   0.   0.   0.   0. 180.]]\n",
      "Objective value: 1651.02\n",
      "Sensitivity analysis:\n",
      "Minimum_production_lower\n",
      "[116.0, -inf, -inf, -inf, -inf]\n",
      "Minimum_production_upper\n",
      "[153.0, 168.0, 140.0, 80.0, 180.0]\n",
      "Maximum_production_lower\n",
      "[135.0, 168.0, 136.0, 76.0, 148.0]\n",
      "Maximum_production_upper\n",
      "[inf, inf, 158.0, 98.0, 181.0]\n",
      "Minimum_demand_lower\n",
      "[71.0, 77.0, 103.0, 83.0, 98.0, 180.0]\n",
      "Minimum_demand_upper\n",
      "[121.0, 99.0, 125.0, 133.0, 135.0, 213.0]\n",
      "Optimal_basis_lower\n",
      "[array([[ 3.33,  4.44,  3.44,  2.7 ,  1.17,  5.18],\n",
      "       [ 2.67,  3.27,  2.27,  0.  ,  0.79,  2.92],\n",
      "       [ 2.67,  1.72, -0.66,  0.87,  0.13,  3.35],\n",
      "       [ 1.78,  2.02,  1.37,  0.63, -0.11,  3.11],\n",
      "       [ 2.24,  2.18,  1.18,  0.44, -0.3 ,  -inf]])]\n",
      "Optimal_basis_upper\n",
      "[array([[5.15,  inf,  inf,  inf, 4.19,  inf],\n",
      "       [4.39,  inf,  inf, 4.79,  inf, 5.26],\n",
      "       [ inf, 2.96, 2.5 ,  inf,  inf,  inf],\n",
      "       [2.78, 3.02,  inf,  inf,  inf,  inf],\n",
      "       [ inf,  inf,  inf,  inf,  inf, 4.01]])]\n",
      "Dual variables:\n",
      "Minimum_production\n",
      "[1.17, 0.0, 0.0, 0.0, 0.0]\n",
      "Maximum_production\n",
      "[0.0, 0.0, -0.6600000000000001, -0.8999999999999999, -1.0899999999999999]\n",
      "Minimum_demand\n",
      "[3.33, 3.27, 2.2700000000000005, 1.53, 0.79, 4.01]\n"
     ]
    }
   ],
   "source": [
    "Q = np.array([180, 200, 140, 80, 180])\n",
    "D = np.array([89, 95, 121, 101, 116, 181])\n",
    "C = np.array([\n",
    "    [4.50, 5.09, 4.33, 5.96, 1.96, 7.30],\n",
    "    [3.33, 4.33, 3.38, 1.53, 5.95, 4.01],\n",
    "    [3.02, 2.61, 1.61, 4.44, 2.36, 4.60],\n",
    "    [2.43, 2.37, 2.54, 4.13, 3.20, 4.88],\n",
    "    [6.42, 4.83, 3.39, 4.40, 7.44, 2.92]\n",
    "])\n",
    "\n",
    "opt_tol = 10**(-5)\n",
    "time_limit = 7200\n",
    "\n",
    "X, sensitivity_analysis, dual_variables = gurobi_solver(C, Q, D, opt_tol, time_limit)\n",
    "\n",
    "print(X)\n",
    "\n",
    "print(f\"Objective value: {np.trace(np.dot(C.T, X))}\")\n",
    "\n",
    "print(\"Sensitivity analysis:\")\n",
    "print(\"Minimum_production_lower\")\n",
    "print(sensitivity_analysis[\"Minimum_production_lower\"])\n",
    "print(\"Minimum_production_upper\")\n",
    "print(sensitivity_analysis[\"Minimum_production_upper\"])\n",
    "print(\"Maximum_production_lower\")\n",
    "print(sensitivity_analysis[\"Maximum_production_lower\"])\n",
    "print(\"Maximum_production_upper\")\n",
    "print(sensitivity_analysis[\"Maximum_production_upper\"])\n",
    "print(\"Minimum_demand_lower\")\n",
    "print(sensitivity_analysis[\"Minimum_demand_lower\"])\n",
    "print(\"Minimum_demand_upper\")\n",
    "print(sensitivity_analysis[\"Minimum_demand_upper\"])\n",
    "print(\"Optimal_basis_lower\")\n",
    "print(sensitivity_analysis[\"Optimal_basis_lower\"])\n",
    "print(\"Optimal_basis_upper\")\n",
    "print(sensitivity_analysis[\"Optimal_basis_upper\"])\n",
    "\n",
    "print(\"Dual variables:\")\n",
    "print(\"Minimum_production\")\n",
    "print(dual_variables[\"Minimum_production\"])\n",
    "print(\"Maximum_production\")\n",
    "print(dual_variables[\"Maximum_production\"])\n",
    "print(\"Minimum_demand\")\n",
    "print(dual_variables[\"Minimum_demand\"])\n"
   ]
  },
  {
   "cell_type": "code",
   "execution_count": 3,
   "id": "eefe5310",
   "metadata": {},
   "outputs": [
    {
     "name": "stdout",
     "output_type": "stream",
     "text": [
      "Results:\n",
      "Best gain:  -179.01\n",
      "Best bound:  upper\n",
      "Best prod:  Minimum_production\n",
      "Best idx:  0\n"
     ]
    }
   ],
   "source": [
    "m, n = C.shape\n",
    "q = Q.shape[0]\n",
    "max_gain = 0\n",
    "best_bound = \"\"\n",
    "best_prod = \"\"\n",
    "best_idx = -1\n",
    "\n",
    "for i in range(0, q):\n",
    "    for bound in [\"lower\", \"upper\"]:\n",
    "        for prod in [\"Minimum_production\", \"Maximum_production\"]:\n",
    "            if prod == \"Minimum_production\":\n",
    "                # b = Q[i] + sensitivity_analysis[f\"{prod}_{bound}\"][i]\n",
    "                b = sensitivity_analysis[f\"{prod}_{bound}\"][i]\n",
    "                gain = - b * dual_variables[prod][i]\n",
    "                if gain < max_gain:\n",
    "                    max_gain = gain\n",
    "                    best_bound = bound\n",
    "                    best_prod = prod\n",
    "                    best_idx = i\n",
    "            else:\n",
    "                # b = Q[i] + sensitivity_analysis[f\"{prod}_{bound}\"][i]\n",
    "                b = sensitivity_analysis[f\"{prod}_{bound}\"][i]\n",
    "                gain = 0.75 * b * dual_variables[prod][i]\n",
    "                if gain < max_gain:\n",
    "                    max_gain = gain\n",
    "                    best_bound = bound\n",
    "                    best_prod = prod\n",
    "                    best_idx = i\n",
    "\n",
    "print(\"Results:\")\n",
    "print(\"Best gain: \", max_gain)\n",
    "print(\"Best bound: \", best_bound)\n",
    "print(\"Best prod: \", best_prod)\n",
    "print(\"Best idx: \", best_idx)"
   ]
  },
  {
   "cell_type": "code",
   "execution_count": 14,
   "id": "26e8bff0",
   "metadata": {},
   "outputs": [
    {
     "data": {
      "text/plain": [
       "array([[ 3.33,  4.44,  3.44,  2.7 ,  1.17,  5.18],\n",
       "       [ 2.67,  3.27,  2.27,  0.  ,  0.79,  2.92],\n",
       "       [ 2.67,  1.72, -0.66,  0.87,  0.13,  3.35],\n",
       "       [ 1.78,  2.02,  1.37,  0.63, -0.11,  3.11],\n",
       "       [ 2.24,  2.18,  1.18,  0.44, -0.3 ,  -inf]])"
      ]
     },
     "execution_count": 14,
     "metadata": {},
     "output_type": "execute_result"
    }
   ],
   "source": [
    "sensitivity_analysis[f\"Optimal_basis_lower\"][0]"
   ]
  },
  {
   "cell_type": "code",
   "execution_count": 22,
   "id": "5d6c66ce",
   "metadata": {},
   "outputs": [
    {
     "name": "stdout",
     "output_type": "stream",
     "text": [
      "-721.8\n",
      "4\n",
      "5\n",
      "4.01\n",
      "180.0\n",
      "721.8\n"
     ]
    },
    {
     "name": "stderr",
     "output_type": "stream",
     "text": [
      "/tmp/ipykernel_1593/2399591046.py:8: RuntimeWarning: invalid value encountered in scalar multiply\n",
      "  delta = -sensitivity_analysis[f\"Optimal_basis_{bound}\"][0][i, j] * X[i, j]\n"
     ]
    }
   ],
   "source": [
    "best_delta = np.inf\n",
    "best_i = -1\n",
    "best_j = -1\n",
    "\n",
    "for i in range(0, m):\n",
    "    for j in range(0, n):\n",
    "        for bound in [\"lower\", \"upper\"]:\n",
    "            delta = -sensitivity_analysis[f\"Optimal_basis_{bound}\"][0][i, j] * X[i, j]\n",
    "            if delta < best_delta:\n",
    "                best_delta = delta\n",
    "                best_i = i\n",
    "                best_j = j\n",
    "\n",
    "print(best_delta)\n",
    "print(best_i)\n",
    "print(best_j)\n",
    "print(sensitivity_analysis[f\"Optimal_basis_{bound}\"][0][best_i, best_j])\n",
    "print(X[best_i, best_j])\n",
    "print(sensitivity_analysis[f\"Optimal_basis_{bound}\"][0][best_i, best_j] * X[best_i, best_j])"
   ]
  }
 ],
 "metadata": {
  "kernelspec": {
   "display_name": "Nonlinear_Programming_Work_Kernel",
   "language": "python",
   "name": "nonlinear_programming_work_kernel"
  },
  "language_info": {
   "codemirror_mode": {
    "name": "ipython",
    "version": 3
   },
   "file_extension": ".py",
   "mimetype": "text/x-python",
   "name": "python",
   "nbconvert_exporter": "python",
   "pygments_lexer": "ipython3",
   "version": "3.12.8"
  }
 },
 "nbformat": 4,
 "nbformat_minor": 5
}
